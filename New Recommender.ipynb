{
 "cells": [
  {
   "cell_type": "code",
   "execution_count": 1,
   "metadata": {},
   "outputs": [],
   "source": [
    "import pandas as pd\n",
    "import numpy as np"
   ]
  },
  {
   "cell_type": "code",
   "execution_count": 2,
   "metadata": {},
   "outputs": [
    {
     "name": "stderr",
     "output_type": "stream",
     "text": [
      "C:\\Users\\user\\Anaconda3\\lib\\site-packages\\sklearn\\feature_extraction\\image.py:167: DeprecationWarning: `np.int` is a deprecated alias for the builtin `int`. To silence this warning, use `int` by itself. Doing this will not modify any behavior and is safe. When replacing `np.int`, you may wish to use e.g. `np.int64` or `np.int32` to specify the precision. If you wish to review your current use, check the release note link for additional information.\n",
      "Deprecated in NumPy 1.20; for more details and guidance: https://numpy.org/devdocs/release/1.20.0-notes.html#deprecations\n",
      "  dtype=np.int):\n"
     ]
    }
   ],
   "source": [
    "from sklearn.metrics.pairwise import cosine_similarity\n",
    "from sklearn.feature_extraction.text import TfidfVectorizer"
   ]
  },
  {
   "cell_type": "code",
   "execution_count": 3,
   "metadata": {},
   "outputs": [],
   "source": [
    "# Read BollywoodMovieDetail.csv file\n",
    "df = pd.read_csv(\"BollywoodMovieDetail.csv\",engine='python', error_bad_lines=False)"
   ]
  },
  {
   "cell_type": "code",
   "execution_count": 4,
   "metadata": {},
   "outputs": [
    {
     "name": "stdout",
     "output_type": "stream",
     "text": [
      "      imdbId                              title  releaseYear  releaseDate  \\\n",
      "0  tt0118578                             Albela         2001  20 Apr 2001   \n",
      "1  tt0169102  Lagaan: Once Upon a Time in India         2001  08 May 2002   \n",
      "2  tt0187279           Meri Biwi Ka Jawab Nahin         2004  02 Jul 2004   \n",
      "3  tt0222024             Hum Tumhare Hain Sanam         2002  24 May 2002   \n",
      "4  tt0227194                         One 2 Ka 4         2001  30 Mar 2001   \n",
      "\n",
      "                         genre  \\\n",
      "0                      Romance   \n",
      "1  Adventure | Drama | Musical   \n",
      "2              Action | Comedy   \n",
      "3              Drama | Romance   \n",
      "4      Action | Comedy | Drama   \n",
      "\n",
      "                                             writers  \\\n",
      "0  Honey Irani (screenplay) | Honey Irani (story)...   \n",
      "1  Ashutosh Gowariker (story) | Ashutosh Gowarike...   \n",
      "2                                                NaN   \n",
      "3  K.S. Adiyaman | Arun Kumar (assistant dialogue...   \n",
      "4  Sanjay Chhel | Raaj Kumar Dahima (screenplay) ...   \n",
      "\n",
      "                                              actors  \\\n",
      "0  Govinda | Aishwarya Rai Bachchan | Jackie Shro...   \n",
      "1  Aamir Khan | Gracy Singh | Rachel Shelley | Pa...   \n",
      "2  Akshay Kumar | Sridevi | Gulshan Grover | Laxm...   \n",
      "3  Shah Rukh Khan | Madhuri Dixit | Salman Khan |...   \n",
      "4  Shah Rukh Khan | Juhi Chawla | Jackie Shroff |...   \n",
      "\n",
      "                      directors  sequel  hitFlop  \n",
      "0                 Deepak Sareen     0.0        2  \n",
      "1            Ashutosh Gowariker     0.0        6  \n",
      "2  Pankaj Parashar | S.M. Iqbal     0.0        1  \n",
      "3                 K.S. Adiyaman     0.0        4  \n",
      "4             Shashilal K. Nair     0.0        1  \n"
     ]
    }
   ],
   "source": [
    "print(df.head())"
   ]
  },
  {
   "cell_type": "code",
   "execution_count": 5,
   "metadata": {},
   "outputs": [
    {
     "name": "stdout",
     "output_type": "stream",
     "text": [
      "Index(['imdbId', 'title', 'releaseYear', 'releaseDate', 'genre', 'writers',\n",
      "       'actors', 'directors', 'sequel', 'hitFlop'],\n",
      "      dtype='object')\n"
     ]
    }
   ],
   "source": [
    "print(df.columns)"
   ]
  },
  {
   "cell_type": "code",
   "execution_count": 6,
   "metadata": {},
   "outputs": [
    {
     "name": "stdout",
     "output_type": "stream",
     "text": [
      "0    Albela Govinda | Aishwarya Rai Bachchan | Jack...\n",
      "1    Lagaan: Once Upon a Time in India Aamir Khan |...\n",
      "2    Meri Biwi Ka Jawab Nahin Akshay Kumar | Sridev...\n",
      "3    Hum Tumhare Hain Sanam Shah Rukh Khan | Madhur...\n",
      "4    One 2 Ka 4 Shah Rukh Khan | Juhi Chawla | Jack...\n",
      "Name: combined_features, dtype: object\n"
     ]
    }
   ],
   "source": [
    "# Select essential Features \n",
    "essential_features = ['title','actors','genre','writers','directors']\n",
    "\n",
    "# New DF column combinig all selected features\n",
    "def combine_features(row):\n",
    "    final_row=row['title'] +\" \"+row['actors']+\" \"+row[\"genre\"]+\" \"+row[\"writers\"]+\" \"+row[\"directors\"]\n",
    "    return final_row\n",
    "for feature in essential_features:\n",
    "# Replacing NaN values with empty string\n",
    "    df[feature] = df[feature].fillna('') \n",
    "    \n",
    "# Passing each row individually in apply() \n",
    "df[\"combined_features\"] = df.apply(combine_features,axis=1)\n",
    "\n",
    "#Printing Combined Features\n",
    "print(df[\"combined_features\"].head())"
   ]
  },
  {
   "cell_type": "code",
   "execution_count": 7,
   "metadata": {},
   "outputs": [
    {
     "name": "stderr",
     "output_type": "stream",
     "text": [
      "C:\\Users\\user\\Anaconda3\\lib\\site-packages\\sklearn\\metrics\\pairwise.py:56: DeprecationWarning: `np.float` is a deprecated alias for the builtin `float`. To silence this warning, use `float` by itself. Doing this will not modify any behavior and is safe. If you specifically wanted the numpy scalar type, use `np.float64` here.\n",
      "Deprecated in NumPy 1.20; for more details and guidance: https://numpy.org/devdocs/release/1.20.0-notes.html#deprecations\n",
      "  dtype = np.float\n"
     ]
    },
    {
     "name": "stdout",
     "output_type": "stream",
     "text": [
      "Enter bollywood movie name  whose release year is between 2001 to 2014    Kranti\n"
     ]
    }
   ],
   "source": [
    "# Vectorizing pre-processed movie plots using TF-IDF\n",
    "tfidfvec = TfidfVectorizer(stop_words='english')\n",
    "tfidf_movieid = tfidfvec.fit_transform(df[\"combined_features\"])\n",
    "\n",
    "# Finding cosine similarity between vectors\n",
    "\n",
    "cosine_sim = cosine_similarity(tfidf_movieid, tfidf_movieid)\n",
    "\n",
    "\n",
    "########## Helper Function to  calculate indices from title of movie############\n",
    "df = df.reset_index()\n",
    "titles = df['title']\n",
    "indices = pd.Series(df.index, index=df['title'])\n",
    "################################################################################\n",
    "\n",
    "# Input from User\n",
    "title=input(\"Enter bollywood movie name  whose release year is between 2001 to 2014    \")\n"
   ]
  },
  {
   "cell_type": "code",
   "execution_count": 8,
   "metadata": {},
   "outputs": [
    {
     "name": "stdout",
     "output_type": "stream",
     "text": [
      "[(99, 0.2586863732759953), (89, 0.2007347067222752), (1258, 0.1918172131271181), (341, 0.1871178968486492), (894, 0.18620852241901537), (77, 0.16789430548321835), (477, 0.1658319911388399), (1283, 0.16070494947328684), (867, 0.16044352324946148), (32, 0.15839055415089748), (1138, 0.15110216448322425), (91, 0.14796232655505195), (908, 0.14689097080184424), (722, 0.14655858803876043), (328, 0.13894678594980087), (661, 0.13771215308891113), (460, 0.13723608064926224), (53, 0.13706967832515773), (1005, 0.13626315030015163), (399, 0.1362015165716708), (48, 0.13600902488284985), (1186, 0.13368029476862112), (481, 0.13285342896226618), (240, 0.13082068307513678), (104, 0.1299280827938123), (27, 0.12961817937316417), (1275, 0.1290622212138377), (910, 0.1274412250390664), (261, 0.12743509638064818), (1080, 0.1257770317222959)]\n"
     ]
    }
   ],
   "source": [
    "# Get the index of entered movie from its title\n",
    "idx = indices[title]\n",
    "\n",
    "# find list of tuple for entered movie with other movies\n",
    "sim_scores = list(enumerate(cosine_sim[idx]))\n",
    "\n",
    "# Arranging the similar movies having more similarity score with entered movie\n",
    "sim_scores = sorted(sim_scores, key=lambda x: x[1], reverse=True)\n",
    "sim_scores = sim_scores[1:31]\n",
    "\n",
    "#Printing pairwise cosine similarity score\n",
    "print(sim_scores)"
   ]
  },
  {
   "cell_type": "code",
   "execution_count": 9,
   "metadata": {},
   "outputs": [
    {
     "name": "stdout",
     "output_type": "stream",
     "text": [
      "Top 10 similar movies to Kranti are:\n",
      "\n",
      "Yeh Hai Jalwa\n",
      "23rd March 1931: Shaheed\n",
      "Koyelaanchal\n",
      "Tathastu\n",
      "Diary of a Butterfly\n",
      "Humko Tumse Pyaar Hai\n",
      "Aap Ki Khatir\n",
      "Zid\n",
      "Chitkabrey\n",
      "Gadar: Ek Prem Katha\n"
     ]
    }
   ],
   "source": [
    "# Printing 10 similar movies\n",
    "i=0\n",
    "print(\"Top 10 similar movies to \"+title+\" are:\\n\")\n",
    "for element in sim_scores:\n",
    "        print(titles.iloc[element[0]])\n",
    "        i=i+1\n",
    "        # loop for 10 movies\n",
    "        if i>=10:\n",
    "               break\n",
    " \n"
   ]
  },
  {
   "cell_type": "code",
   "execution_count": null,
   "metadata": {},
   "outputs": [],
   "source": []
  }
 ],
 "metadata": {
  "kernelspec": {
   "display_name": "Python 3",
   "language": "python",
   "name": "python3"
  },
  "language_info": {
   "codemirror_mode": {
    "name": "ipython",
    "version": 3
   },
   "file_extension": ".py",
   "mimetype": "text/x-python",
   "name": "python",
   "nbconvert_exporter": "python",
   "pygments_lexer": "ipython3",
   "version": "3.7.0"
  }
 },
 "nbformat": 4,
 "nbformat_minor": 2
}
